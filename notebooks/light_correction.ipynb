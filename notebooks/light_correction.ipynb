{
 "cells": [
  {
   "cell_type": "markdown",
   "metadata": {},
   "source": [
    "# Flipping, adding keywords, and calibration of light frames"
   ]
  },
  {
   "cell_type": "code",
   "execution_count": 1,
   "metadata": {},
   "outputs": [],
   "source": [
    "from astropy.coordinates import SkyCoord\n",
    "import astropy.units as u\n",
    "import glob,os"
   ]
  },
  {
   "cell_type": "markdown",
   "metadata": {},
   "source": [
    "## Keeler 24\" Planewave Specs"
   ]
  },
  {
   "cell_type": "code",
   "execution_count": 3,
   "metadata": {},
   "outputs": [],
   "source": [
    "FOCALLEN = 3962.3999023437500 #Focal length of telescope in mm\n",
    "PIXELSIZE = 9 #pixel size in microns (from https://www.astroshop.eu/astronomical-cameras/sbig-camera-stx-16803-mono/p,53788#specifications)"
   ]
  },
  {
   "cell_type": "code",
   "execution_count": null,
   "metadata": {},
   "outputs": [
    {
     "name": "stdout",
     "output_type": "stream",
     "text": [
      "ra: 7.053933333333333 dec: 42.061375\n",
      "0.4685001629699094\n"
     ]
    }
   ],
   "source": [
    "target_coords_wcs = (\"00:28:12.944\", \"+42:03:40.95\")\n",
    "c=SkyCoord(target_coords_wcs[0],target_coords_wcs[1],frame='icrs',unit=(u.hourangle,u.degree))\n",
    "ra=c.ra.degree; dec=c.dec.degree\n",
    "print(\"ra:\", ra, \"dec:\",c.dec.degree)\n",
    "epoch=2000.0\n",
    "pixscale=206.265*(PIXELSIZE/FOCALLEN)  # in arcsec, formula from https://www.icrar.org/wp-content/uploads/2021/11/Resolving-the-night-sky-updated-2021.pdf\n",
    "print(pixscale)"
   ]
  },
  {
   "cell_type": "markdown",
   "metadata": {},
   "source": [
    "## Adding keywords to light frames, initial references..."
   ]
  },
  {
   "cell_type": "code",
   "execution_count": null,
   "metadata": {},
   "outputs": [],
   "source": []
  },
  {
   "cell_type": "markdown",
   "metadata": {},
   "source": [
    "## Gain and Readout Noise"
   ]
  },
  {
   "cell_type": "code",
   "execution_count": 15,
   "metadata": {},
   "outputs": [
    {
     "name": "stdout",
     "output_type": "stream",
     "text": [
      "11\n",
      "9\n",
      "gain: 0.24275960202545627, readoout: 0.6125354503773921\n"
     ]
    },
    {
     "data": {
      "text/plain": [
       "[0.24275960202545627, 0.6125354503773921]"
      ]
     },
     "execution_count": 15,
     "metadata": {},
     "output_type": "execute_result"
    }
   ],
   "source": [
    "from astropy.io import fits\n",
    "import numpy as np\n",
    "import glob\n",
    "\n",
    "def get_gain_readout_noise(directory:str, bias_indicator:str, flat_indicator:str) -> list:\n",
    "    bias_list = glob.glob(directory + f\"*{bias_indicator}*\")\n",
    "    flat_list = glob.glob(directory + f\"*{flat_indicator}*\")\n",
    "    print(len(bias_list))\n",
    "    print(len(flat_list))\n",
    "    bias_data = []\n",
    "    flat_data = []\n",
    "    \n",
    "    for bias_file in bias_list:\n",
    "        data = fits.getdata(bias_file)[1500-256:1500+256,1500-256:1500+256]\n",
    "        bias_data.append(data)\n",
    "    for flat_file in flat_list:\n",
    "        data = fits.getdata(flat_file)[1500-256:1500+256,1500-256:1500+256]\n",
    "        flat_data.append(data)\n",
    "    \n",
    "    bias_combined = np.median(bias_data, axis=0)\n",
    "    flat_combined = np.median(flat_data, axis=0)\n",
    "    \n",
    "    # Calculate gain and read noise\n",
    "    mean_flat = np.mean(flat_combined)\n",
    "    mean_bias = np.mean(bias_combined)\n",
    "    std_flat = np.std(flat_combined)\n",
    "    std_bias = np.std(bias_combined)\n",
    "\n",
    "    gain = (mean_flat - mean_bias) / (std_flat**2 - std_bias**2)\n",
    "    readnoise = gain * std_bias / np.sqrt(2)  \n",
    "      \n",
    "    print(f\"gain: {gain}, readoout: {readnoise}\")\n",
    "    return [gain, readnoise]\n",
    "\n",
    "get_gain_readout_noise(\"/Users/spencerfreeman/Desktop/PersonalCS/CurrentPipeline/test_input/\", \"bias\", \"frp\")"
   ]
  }
 ],
 "metadata": {
  "kernelspec": {
   "display_name": "pipeline_env",
   "language": "python",
   "name": "python3"
  },
  "language_info": {
   "codemirror_mode": {
    "name": "ipython",
    "version": 3
   },
   "file_extension": ".py",
   "mimetype": "text/x-python",
   "name": "python",
   "nbconvert_exporter": "python",
   "pygments_lexer": "ipython3",
   "version": "3.12.2"
  }
 },
 "nbformat": 4,
 "nbformat_minor": 2
}
